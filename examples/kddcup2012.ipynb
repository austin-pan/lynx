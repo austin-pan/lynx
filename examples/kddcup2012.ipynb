{
 "cells": [
  {
   "cell_type": "code",
   "execution_count": null,
   "metadata": {},
   "outputs": [],
   "source": [
    "%load_ext autoreload\n",
    "%autoreload 2"
   ]
  },
  {
   "cell_type": "code",
   "execution_count": null,
   "metadata": {},
   "outputs": [],
   "source": [
    "import pandas as pd\n",
    "import numpy as np\n",
    "import lynx as lx\n",
    "\n",
    "dataset_path = \"/Users/austin-pan/Downloads/lynx/datasets/kddcup2012\""
   ]
  }
 ],
 "metadata": {
  "kernelspec": {
   "display_name": "indb-fm",
   "language": "python",
   "name": "python3"
  },
  "language_info": {
   "name": "python",
   "version": "3.10.9"
  }
 },
 "nbformat": 4,
 "nbformat_minor": 2
}
